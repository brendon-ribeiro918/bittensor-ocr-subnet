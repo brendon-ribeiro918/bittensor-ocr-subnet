{
 "cells": [
  {
   "cell_type": "code",
   "execution_count": null,
   "metadata": {},
   "outputs": [],
   "source": [
    "!pip install pytesseract"
   ]
  },
  {
   "cell_type": "code",
   "execution_count": null,
   "metadata": {},
   "outputs": [],
   "source": [
    "import pytesseract\n",
    "import os\n",
    "import pandas as pd\n",
    "from PIL import Image\n"
   ]
  },
  {
   "cell_type": "code",
   "execution_count": null,
   "metadata": {},
   "outputs": [],
   "source": [
    "\n",
    "# Path to the image you want to extract text from\n",
    "path = os.path.join(os.getcwd(), 'noisy_invoice.png')\n",
    "image = Image.open(path).convert(\"RGB\")\n",
    "\n",
    "# show image\n",
    "image\n"
   ]
  },
  {
   "cell_type": "code",
   "execution_count": null,
   "metadata": {},
   "outputs": [],
   "source": [
    "\n",
    "# Optional: Apply image processing to clean up the image\n",
    "# and improve OCR accuracy. For example, thresholding:\n",
    "# image = image.convert('L')  # Convert image to grayscale\n",
    "# threshold = 200\n",
    "# image = image.point(lambda p: p > threshold and 255)\n",
    "\n",
    "# Use Tesseract to do OCR on the image\n",
    "text = pytesseract.image_to_string(image)\n",
    "\n",
    "# Print the text\n",
    "print(text)\n"
   ]
  },
  {
   "cell_type": "code",
   "execution_count": null,
   "metadata": {},
   "outputs": [],
   "source": [
    "def grab_raw_data(image):\n",
    "    # Use pytesseract to get the data\n",
    "    data = pytesseract.image_to_data(image, output_type=pytesseract.Output.DICT)\n",
    "\n",
    "    # Initialize the response list\n",
    "    response = []\n",
    "\n",
    "    # Loop over each item in the 'text' part of the data\n",
    "    for i in range(len(data['text'])):\n",
    "        if data['text'][i].strip() != '':  # This filters out empty text results\n",
    "            x1, y1, width, height = data['left'][i], data['top'][i], data['width'][i], data['height'][i]\n",
    "            x2, y2 = x1 + width, y1 + height\n",
    "            \n",
    "            # Here we don't have font information, so we'll omit that.\n",
    "            # Pytesseract does not extract font family or size information.\n",
    "            entry = {\n",
    "                'index': i,\n",
    "                'position': [x1, y1, x2, y2],\n",
    "                'text': data['text'][i]\n",
    "            }\n",
    "            response.append(entry)\n",
    "\n",
    "    # Now 'response' will be a list of dictionaries with the text and its bounding box coordinates.\n",
    "    return response\n",
    "\n",
    "response = grab_raw_data(image)\n",
    "response\n"
   ]
  },
  {
   "cell_type": "code",
   "execution_count": null,
   "metadata": {},
   "outputs": [],
   "source": [
    "print('\\n'.join(r['text'] for r in response))"
   ]
  },
  {
   "cell_type": "code",
   "execution_count": null,
   "metadata": {},
   "outputs": [],
   "source": [
    "\n",
    "df = pd.DataFrame(response)\n",
    "df"
   ]
  },
  {
   "cell_type": "code",
   "execution_count": null,
   "metadata": {},
   "outputs": [],
   "source": [
    "from PIL import ImageDraw\n",
    "def draw_boxes(image, response):\n",
    "    \"\"\"Draws boxes around text on the image\"\"\"\n",
    "    draw = ImageDraw.Draw(image)\n",
    "    for item in response:\n",
    "        draw.rectangle(item['position'], outline='red')\n",
    "    return image\n",
    "\n"
   ]
  },
  {
   "cell_type": "code",
   "execution_count": null,
   "metadata": {},
   "outputs": [],
   "source": [
    "draw_boxes(image, response)"
   ]
  },
  {
   "cell_type": "code",
   "execution_count": null,
   "metadata": {},
   "outputs": [],
   "source": []
  }
 ],
 "metadata": {
  "kernelspec": {
   "display_name": "env",
   "language": "python",
   "name": "python3"
  },
  "language_info": {
   "codemirror_mode": {
    "name": "ipython",
    "version": 3
   },
   "file_extension": ".py",
   "mimetype": "text/x-python",
   "name": "python",
   "nbconvert_exporter": "python",
   "pygments_lexer": "ipython3",
   "version": "3.9.5"
  },
  "orig_nbformat": 4
 },
 "nbformat": 4,
 "nbformat_minor": 2
}
